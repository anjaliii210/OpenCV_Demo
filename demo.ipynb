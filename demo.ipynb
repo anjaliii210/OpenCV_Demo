{
 "cells": [
  {
   "cell_type": "code",
   "execution_count": null,
   "id": "87d1f453",
   "metadata": {},
   "outputs": [],
   "source": [
    "import cv2 as cv\n",
    "img=cv.imread('image2.jpg')   #reading img\n",
    "cv.imshow('image2.jpg',img)\n",
    "cv.waitKey(0)"
   ]
  },
  {
   "cell_type": "code",
   "execution_count": null,
   "id": "608bfdf3",
   "metadata": {},
   "outputs": [],
   "source": [
    "capt=cv.VideoCapture('dog.mp4')\n",
    "while True:\n",
    "    isTrue, frame=capt.read()\n",
    "    cv.imshow('video',frame)\n",
    "    if cv.waitKey(20) & 0xFF==ord('a'): break                                             #video\n",
    "\n",
    "capt.release()\n",
    "cv.destroyAllWindows()\n",
    "\n"
   ]
  },
  {
   "cell_type": "code",
   "execution_count": null,
   "id": "27903fc3",
   "metadata": {},
   "outputs": [],
   "source": [
    "def rescale(frame,scale=0.50):\n",
    "    w=int(frame.shape[1]*scale)\n",
    "    h=int(frame.shape[0]*scale)\n",
    "    dimensions=(w,h)\n",
    "    return cv.resize(frame,dimensions)"
   ]
  },
  {
   "cell_type": "code",
   "execution_count": null,
   "id": "60517692",
   "metadata": {},
   "outputs": [],
   "source": [
    "capt=cv.VideoCapture('dog.mp4')\n",
    "while True:\n",
    "    isTrue, frame=capt.read()\n",
    "    rs_frame=rescale(frame)\n",
    "    cv.imshow('video',frame)\n",
    "    cv.imshow('video resized',rs_frame)\n",
    "    if cv.waitKey(20) & 0xFF==ord('a'): \n",
    "        break                                             #video resizing\n",
    "\n",
    "capt.release()\n",
    "cv.destroyAllWindows()"
   ]
  },
  {
   "cell_type": "code",
   "execution_count": null,
   "id": "67e93d9b",
   "metadata": {},
   "outputs": [
    {
     "data": {
      "text/plain": [
       "-1"
      ]
     },
     "execution_count": 5,
     "metadata": {},
     "output_type": "execute_result"
    }
   ],
   "source": [
    "img=cv.imread('image2.jpg')   #reading img\n",
    "rs_img=rescale(img)\n",
    "cv.imshow('image2.jpg',rs_img)\n",
    "cv.waitKey(0)"
   ]
  }
 ],
 "metadata": {
  "kernelspec": {
   "display_name": "Python 3",
   "language": "python",
   "name": "python3"
  },
  "language_info": {
   "codemirror_mode": {
    "name": "ipython",
    "version": 3
   },
   "file_extension": ".py",
   "mimetype": "text/x-python",
   "name": "python",
   "nbconvert_exporter": "python",
   "pygments_lexer": "ipython3",
   "version": "3.13.1"
  }
 },
 "nbformat": 4,
 "nbformat_minor": 5
}
